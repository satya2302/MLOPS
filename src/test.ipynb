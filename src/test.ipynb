{
 "cells": [
  {
   "cell_type": "code",
   "execution_count": 8,
   "metadata": {},
   "outputs": [
    {
     "name": "stdout",
     "output_type": "stream",
     "text": [
      "The predicted is: setosa\n"
     ]
    }
   ],
   "source": [
    "# test.py\n",
    "import pytest\n",
    "import numpy as np\n",
    "import joblib\n",
    "from sklearn.datasets import load_iris\n",
    "\n",
    "# Load the iris dataset for class names\n",
    "data = load_iris()\n",
    "\n",
    "# Load the trained model\n",
    "loaded_model = joblib.load('iris_model.joblib')\n",
    "\n",
    "if __name__ == \"__main__\":\n",
    "    # Example usage\n",
    "    example_features = [5.1, 3.5, 1.4, 0.2]\n",
    "    example_features = np.array(example_features).reshape(1, -1)\n",
    "    prediction = loaded_model.predict(example_features)\n",
    "    print(f\"The predicted is: {data.target_names[prediction[0]]}\")\n"
   ]
  }
 ],
 "metadata": {
  "language_info": {
   "name": "python"
  }
 },
 "nbformat": 4,
 "nbformat_minor": 2
}
