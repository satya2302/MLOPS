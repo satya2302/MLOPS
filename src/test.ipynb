{
 "cells": [
  {
   "cell_type": "code",
   "execution_count": 1,
   "metadata": {},
   "outputs": [
    {
     "name": "stdout",
     "output_type": "stream",
     "text": [
      "The predicted class for the given features [5.1, 3.5, 1.4, 0.2] is: setosa\n"
     ]
    },
    {
     "name": "stderr",
     "output_type": "stream",
     "text": [
      "c:\\Users\\satya\\.conda\\envs\\mlops\\lib\\site-packages\\sklearn\\utils\\validation.py:2739: UserWarning: X does not have valid feature names, but RandomForestClassifier was fitted with feature names\n",
      "  warnings.warn(\n"
     ]
    }
   ],
   "source": [
    "import numpy as np\n",
    "import joblib\n",
    "from sklearn.datasets import load_iris\n",
    "\n",
    "# Load the iris dataset for class names\n",
    "data = load_iris()\n",
    "\n",
    "# Load the trained model\n",
    "loaded_model = joblib.load('model.joblib')\n",
    "\n",
    "def predict_iris(features):\n",
    "    \"\"\"\n",
    "    Predict the class of an iris flower given its features.\n",
    "\n",
    "    Parameters:\n",
    "    features (list or array): A list or array of 4 numerical features in the order:\n",
    "                              [sepal length, sepal width, petal length, petal width].\n",
    "\n",
    "    Returns:\n",
    "    str: The predicted iris class.\n",
    "    \"\"\"\n",
    "    if len(features) != 4:\n",
    "        raise ValueError(\"Features must be a list or array of 4 numerical values.\")\n",
    "    \n",
    "    features = np.array(features).reshape(1, -1)\n",
    "    prediction = loaded_model.predict(features)\n",
    "    return data.target_names[prediction[0]]\n",
    "\n",
    "if __name__ == \"__main__\":\n",
    "    # Example usage\n",
    "    example_features = [5.1, 3.5, 1.4, 0.2]\n",
    "    prediction = predict_iris(example_features)\n",
    "    print(f\"The predicted class for the given features {example_features} is: {prediction}\")\n"
   ]
  }
 ],
 "metadata": {
  "kernelspec": {
   "display_name": "mlops",
   "language": "python",
   "name": "python3"
  },
  "language_info": {
   "codemirror_mode": {
    "name": "ipython",
    "version": 3
   },
   "file_extension": ".py",
   "mimetype": "text/x-python",
   "name": "python",
   "nbconvert_exporter": "python",
   "pygments_lexer": "ipython3",
   "version": "3.10.16"
  }
 },
 "nbformat": 4,
 "nbformat_minor": 2
}
