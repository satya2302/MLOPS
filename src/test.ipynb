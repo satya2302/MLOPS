{
 "cells": [
  {
   "cell_type": "code",
   "execution_count": 10,
   "metadata": {},
   "outputs": [],
   "source": [
    "import pytest\n",
    "import numpy as np\n",
    "import joblib\n",
    "from sklearn.datasets import load_iris\n",
    "\n",
    "# Load the iris dataset for class names\n",
    "data = load_iris()\n",
    "\n",
    "# Load the trained model\n",
    "loaded_model = joblib.load('iris_model.joblib')\n",
    "\n",
    "@pytest.fixture\n",
    "def example_features():\n",
    "    \"\"\"Fixture to provide example features for prediction.\"\"\"\n",
    "    return np.array([5.1, 3.5, 1.4, 0.2]).reshape(1, -1)\n",
    "\n",
    "def test_model_prediction(example_features):\n",
    "    \"\"\"Test model prediction for example features.\"\"\"\n",
    "    prediction = loaded_model.predict(example_features)\n",
    "    predicted_class = data.target_names[prediction[0]]\n",
    "    \n",
    "    # Validate prediction\n",
    "    assert predicted_class in [\"setosa\", \"versicolor\", \"virginica\"], \\\n",
    "        f\"Unexpected prediction: {predicted_class}\"\n",
    "\n",
    "def test_model_loading():\n",
    "    \"\"\"Test if the model loads correctly.\"\"\"\n",
    "    assert loaded_model is not None, \"Model failed to load\"\n"
   ]
  }
 ],
 "metadata": {
  "language_info": {
   "name": "python"
  }
 },
 "nbformat": 4,
 "nbformat_minor": 2
}
